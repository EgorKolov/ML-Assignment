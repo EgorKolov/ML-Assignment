{
 "cells": [
  {
   "cell_type": "code",
   "execution_count": 1,
   "id": "8451114d",
   "metadata": {},
   "outputs": [],
   "source": [
    "from os.path import join\n",
    "import pandas as pd\n",
    "import torch\n",
    "import torch.nn as nn\n",
    "import torch.nn.functional as F\n",
    "from torch.utils.data import Dataset, DataLoader\n",
    "from torchvision.io import read_image, ImageReadMode"
   ]
  },
  {
   "cell_type": "code",
   "execution_count": 2,
   "id": "45d67031",
   "metadata": {},
   "outputs": [],
   "source": [
    "# Dataset definition\n",
    "class ImageDataset(Dataset):\n",
    "    def __init__(self, im_dir):\n",
    "        df = pd.read_csv(join(im_dir, \"label.csv\"), sep=\";\")\n",
    "        self.images = df[\"FileName\"].apply(lambda im: join(im_dir, im))\n",
    "        self.labels = df[\"Angle\"]\n",
    "        \n",
    "    def __len__(self) -> int:\n",
    "        return len(self.labels)\n",
    "    \n",
    "    def __getitem__(self, index) -> (torch.Tensor, float):\n",
    "        image = read_image(self.images[index], ImageReadMode.GRAY) / 255\n",
    "        label = self.labels[index]\n",
    "        return image, torch.Tensor([label])\n",
    "\n",
    "    \n",
    "batch_size = 48\n",
    "\n",
    "train_dataloader = DataLoader(ImageDataset(\"../data/train/\"), batch_size=batch_size, shuffle=True)\n",
    "test_dataloader  = DataLoader(ImageDataset(\"../data/test/\"), batch_size=batch_size, shuffle=True)"
   ]
  },
  {
   "cell_type": "code",
   "execution_count": 3,
   "id": "11569b30",
   "metadata": {},
   "outputs": [],
   "source": [
    "# Model definition\n",
    "class Regression(nn.Module):\n",
    "    def __init__(self):\n",
    "        super(Regression, self).__init__()\n",
    "        self.c1 = nn.Conv2d(1, 4, kernel_size=3)\n",
    "        self.p1 = nn.MaxPool2d(2)\n",
    "        \n",
    "        self.c2 = nn.Conv2d(4, 8, kernel_size=3)\n",
    "        self.p2 = nn.MaxPool2d(2)\n",
    "        self.d1 = nn.Dropout2d(0.4)\n",
    "        \n",
    "        self.c3 = nn.Conv2d(8, 16, kernel_size=3)\n",
    "        self.p3 = nn.MaxPool2d(2)\n",
    "        self.d2 = nn.Dropout2d(0.4)\n",
    "        \n",
    "        self.f1 = nn.Flatten()\n",
    "        self.l1 = nn.Linear(45 * 50 * 16, 64)\n",
    "        self.d3 = nn.Dropout()\n",
    "        \n",
    "        self.l2 = nn.Linear(64, 1)\n",
    "        \n",
    "    def forward(self, x):\n",
    "        x = self.p1(F.relu(self.c1(x)))\n",
    "        x = self.d1(self.p2(F.relu(self.c2(x))))\n",
    "        x = self.d2(self.p3(F.relu(self.c3(x))))\n",
    "        x = self.d3(F.relu(self.l1(self.f1(x))))\n",
    "        x = F.relu(self.l2(x))\n",
    "        return x"
   ]
  },
  {
   "cell_type": "code",
   "execution_count": 4,
   "id": "e61e5673",
   "metadata": {},
   "outputs": [],
   "source": [
    "device = torch.device(\"cuda:0\" if torch.cuda.is_available() else \"cpu\")\n",
    "\n",
    "def run_epoch(model, dataloader, criterion, optimizer, verbose=True):\n",
    "    if optimizer:\n",
    "        model.train()\n",
    "    else:\n",
    "        model.eval()\n",
    "    \n",
    "    run_loss, run_error = 0, 0\n",
    "    for x_batch, y_batch in dataloader:\n",
    "        if optimizer:\n",
    "            optimizer.zero_grad()\n",
    "        \n",
    "        y_pred = model(x_batch.to(device)).to(\"cpu\")\n",
    "        loss = criterion(y_pred, y_batch)\n",
    "        \n",
    "        if optimizer:\n",
    "            loss.backward()\n",
    "            optimizer.step()\n",
    "        \n",
    "        run_loss += loss.item()\n",
    "        run_error += (y_pred - y_batch).abs().sum().item()\n",
    "        \n",
    "    if verbose:\n",
    "        print(\"Loss: {:10.3f} | MAE: {:7.3f}\".format(run_loss * batch_size / len(dataloader.dataset), run_error / len(dataloader.dataset)))\n",
    "    return run_error / len(dataloader.dataset)"
   ]
  },
  {
   "cell_type": "code",
   "execution_count": 5,
   "id": "0b837040",
   "metadata": {},
   "outputs": [],
   "source": [
    "# Training part"
   ]
  },
  {
   "cell_type": "code",
   "execution_count": 6,
   "id": "403f2b52",
   "metadata": {},
   "outputs": [
    {
     "name": "stdout",
     "output_type": "stream",
     "text": [
      "Regression(\n",
      "  (c1): Conv2d(1, 4, kernel_size=(3, 3), stride=(1, 1))\n",
      "  (p1): MaxPool2d(kernel_size=2, stride=2, padding=0, dilation=1, ceil_mode=False)\n",
      "  (c2): Conv2d(4, 8, kernel_size=(3, 3), stride=(1, 1))\n",
      "  (p2): MaxPool2d(kernel_size=2, stride=2, padding=0, dilation=1, ceil_mode=False)\n",
      "  (d1): Dropout2d(p=0.4, inplace=False)\n",
      "  (c3): Conv2d(8, 16, kernel_size=(3, 3), stride=(1, 1))\n",
      "  (p3): MaxPool2d(kernel_size=2, stride=2, padding=0, dilation=1, ceil_mode=False)\n",
      "  (d2): Dropout2d(p=0.4, inplace=False)\n",
      "  (f1): Flatten(start_dim=1, end_dim=-1)\n",
      "  (l1): Linear(in_features=36000, out_features=64, bias=True)\n",
      "  (d3): Dropout(p=0.5, inplace=False)\n",
      "  (l2): Linear(in_features=64, out_features=1, bias=True)\n",
      ") on cuda:0 with 2305633 parameters\n"
     ]
    }
   ],
   "source": [
    "model = Regression()\n",
    "model.to(device)\n",
    "\n",
    "criterion = nn.MSELoss()\n",
    "optimizer = torch.optim.Adam(model.parameters())\n",
    "\n",
    "print(model, \"on\", device, \"with\", sum(p.numel() for p in model.parameters() if p.requires_grad), \"parameters\")"
   ]
  },
  {
   "cell_type": "code",
   "execution_count": 7,
   "id": "b409efa6",
   "metadata": {
    "scrolled": true
   },
   "outputs": [
    {
     "name": "stdout",
     "output_type": "stream",
     "text": [
      "Epoch    0 | Loss:  13173.362 | MAE:  98.675\n",
      "Epoch    1 | Loss:   4466.504 | MAE:  55.074\n",
      "Epoch    2 | Loss:   3676.659 | MAE:  49.304\n",
      "Epoch    3 | Loss:   3289.979 | MAE:  46.353\n",
      "Epoch    4 | Loss:   3129.525 | MAE:  45.128\n",
      "Epoch    5 | Loss:   3352.807 | MAE:  46.581\n",
      "Epoch    6 | Loss:   3214.933 | MAE:  45.602\n",
      "Epoch    7 | Loss:   3064.295 | MAE:  44.867\n",
      "Epoch    8 | Loss:   2910.362 | MAE:  43.169\n",
      "Epoch    9 | Loss:   2920.530 | MAE:  43.533\n",
      "Epoch   10 | Loss:   3043.188 | MAE:  44.557\n",
      "Epoch   11 | Loss:   2842.424 | MAE:  43.098\n",
      "Epoch   12 | Loss:   3010.028 | MAE:  43.931\n",
      "Epoch   13 | Loss:   2841.475 | MAE:  42.835\n",
      "Epoch   14 | Loss:   2873.873 | MAE:  43.321\n",
      "Epoch   15 | Loss:   2824.128 | MAE:  42.984\n",
      "Epoch   16 | Loss:   2893.802 | MAE:  43.459\n",
      "Epoch   17 | Loss:   2935.064 | MAE:  43.559\n",
      "Epoch   18 | Loss:   2866.750 | MAE:  43.232\n",
      "Epoch   19 | Loss:   2875.120 | MAE:  42.824\n",
      "Test | Loss:    404.912 | MAE:  17.860\n"
     ]
    }
   ],
   "source": [
    "n_epochs = 20\n",
    "for n in range(n_epochs):\n",
    "    print(\"Epoch {:4d}\".format(n), end=\" | \")\n",
    "    run_epoch(model, train_dataloader, criterion, optimizer)\n",
    "print(\"Test\", end = \" | \")\n",
    "mae = run_epoch(model, test_dataloader, criterion, optimizer=None)\n",
    "torch.save(model.state_dict(), \"./model-{:.3f}.ckpt\".format(mae))"
   ]
  },
  {
   "cell_type": "code",
   "execution_count": 5,
   "id": "b66d534e",
   "metadata": {},
   "outputs": [],
   "source": [
    "# Inference part"
   ]
  },
  {
   "cell_type": "code",
   "execution_count": 6,
   "id": "5f97700f",
   "metadata": {},
   "outputs": [
    {
     "name": "stdout",
     "output_type": "stream",
     "text": [
      "Regression(\n",
      "  (c1): Conv2d(1, 4, kernel_size=(3, 3), stride=(1, 1))\n",
      "  (p1): MaxPool2d(kernel_size=2, stride=2, padding=0, dilation=1, ceil_mode=False)\n",
      "  (c2): Conv2d(4, 8, kernel_size=(3, 3), stride=(1, 1))\n",
      "  (p2): MaxPool2d(kernel_size=2, stride=2, padding=0, dilation=1, ceil_mode=False)\n",
      "  (d1): Dropout2d(p=0.4, inplace=False)\n",
      "  (c3): Conv2d(8, 16, kernel_size=(3, 3), stride=(1, 1))\n",
      "  (p3): MaxPool2d(kernel_size=2, stride=2, padding=0, dilation=1, ceil_mode=False)\n",
      "  (d2): Dropout2d(p=0.4, inplace=False)\n",
      "  (f1): Flatten(start_dim=1, end_dim=-1)\n",
      "  (l1): Linear(in_features=36000, out_features=64, bias=True)\n",
      "  (d3): Dropout(p=0.5, inplace=False)\n",
      "  (l2): Linear(in_features=64, out_features=1, bias=True)\n",
      ") on cuda:0 with 2305633 parameters\n"
     ]
    }
   ],
   "source": [
    "device = torch.device(\"cuda:0\" if torch.cuda.is_available() else \"cpu\")\n",
    "\n",
    "model = Regression()\n",
    "model.to(device)\n",
    "\n",
    "criterion = nn.MSELoss()\n",
    "model.load_state_dict(torch.load(\"model-final-15.318.ckpt\"))\n",
    "\n",
    "print(model, \"on\", device, \"with\", sum(p.numel() for p in model.parameters() if p.requires_grad), \"parameters\")"
   ]
  },
  {
   "cell_type": "code",
   "execution_count": 7,
   "id": "0c44052c",
   "metadata": {},
   "outputs": [
    {
     "name": "stdout",
     "output_type": "stream",
     "text": [
      "Model's performance on test dataset: | Loss:    274.606 | MAE:  15.318\n"
     ]
    },
    {
     "data": {
      "text/plain": [
       "15.3178412630627"
      ]
     },
     "execution_count": 7,
     "metadata": {},
     "output_type": "execute_result"
    }
   ],
   "source": [
    "print(\"Model's performance on test dataset:\", end=\" | \")\n",
    "run_epoch(model, test_dataloader, criterion, optimizer=None)"
   ]
  },
  {
   "cell_type": "code",
   "execution_count": null,
   "id": "be9f1496",
   "metadata": {},
   "outputs": [],
   "source": []
  }
 ],
 "metadata": {
  "kernelspec": {
   "display_name": "Python 3 (ipykernel)",
   "language": "python",
   "name": "python3"
  },
  "language_info": {
   "codemirror_mode": {
    "name": "ipython",
    "version": 3
   },
   "file_extension": ".py",
   "mimetype": "text/x-python",
   "name": "python",
   "nbconvert_exporter": "python",
   "pygments_lexer": "ipython3",
   "version": "3.7.8"
  }
 },
 "nbformat": 4,
 "nbformat_minor": 5
}
