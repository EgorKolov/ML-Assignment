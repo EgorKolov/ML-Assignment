{
 "cells": [
  {
   "cell_type": "code",
   "execution_count": 6,
   "id": "8451114d",
   "metadata": {},
   "outputs": [],
   "source": [
    "from os.path import join\n",
    "import pandas as pd\n",
    "import torch\n",
    "import torch.nn as nn\n",
    "import torch.nn.functional as F\n",
    "from torch.utils.data import Dataset, DataLoader\n",
    "from torchvision.io import read_image, ImageReadMode"
   ]
  },
  {
   "cell_type": "code",
   "execution_count": 7,
   "id": "403f2b52",
   "metadata": {},
   "outputs": [
    {
     "name": "stdout",
     "output_type": "stream",
     "text": [
      "Regression(\n",
      "  (c1): Conv2d(1, 4, kernel_size=(3, 3), stride=(1, 1))\n",
      "  (p1): MaxPool2d(kernel_size=2, stride=2, padding=0, dilation=1, ceil_mode=False)\n",
      "  (c2): Conv2d(4, 8, kernel_size=(3, 3), stride=(1, 1))\n",
      "  (p2): MaxPool2d(kernel_size=2, stride=2, padding=0, dilation=1, ceil_mode=False)\n",
      "  (d1): Dropout2d(p=0.5, inplace=False)\n",
      "  (c3): Conv2d(8, 16, kernel_size=(3, 3), stride=(1, 1))\n",
      "  (p3): MaxPool2d(kernel_size=2, stride=2, padding=0, dilation=1, ceil_mode=False)\n",
      "  (d2): Dropout2d(p=0.5, inplace=False)\n",
      "  (f1): Flatten(start_dim=1, end_dim=-1)\n",
      "  (l1): Linear(in_features=36000, out_features=64, bias=True)\n",
      "  (d3): Dropout(p=0.5, inplace=False)\n",
      "  (l2): Linear(in_features=64, out_features=1, bias=True)\n",
      ") on cuda:0 with 2305633 parameters\n"
     ]
    }
   ],
   "source": [
    "class Regression(nn.Module):\n",
    "    def __init__(self):\n",
    "        super(Regression, self).__init__()\n",
    "        self.c1 = nn.Conv2d(1, 4, kernel_size=3)\n",
    "        self.p1 = nn.MaxPool2d(2)\n",
    "        \n",
    "        self.c2 = nn.Conv2d(4, 8, kernel_size=3)\n",
    "        self.p2 = nn.MaxPool2d(2)\n",
    "        self.d1 = nn.Dropout2d()\n",
    "        \n",
    "        self.c3 = nn.Conv2d(8, 16, kernel_size=3)\n",
    "        self.p3 = nn.MaxPool2d(2)\n",
    "        self.d2 = nn.Dropout2d()\n",
    "        \n",
    "        self.f1 = nn.Flatten()\n",
    "        self.l1 = nn.Linear(45 * 50 * 16, 64)\n",
    "        self.d3 = nn.Dropout()\n",
    "        \n",
    "        self.l2 = nn.Linear(64, 1)\n",
    "        \n",
    "    def forward(self, x):\n",
    "        x = self.p1(F.relu(self.c1(x)))\n",
    "        x = self.d1(self.p2(F.relu(self.c2(x))))\n",
    "        x = self.d2(self.p3(F.relu(self.c3(x))))\n",
    "        x = self.d3(F.relu(self.l1(self.f1(x))))\n",
    "        x = F.relu(self.l2(x))\n",
    "        return x\n",
    "\n",
    "    \n",
    "device = torch.device(\"cuda:0\" if torch.cuda.is_available() else \"cpu\")\n",
    "\n",
    "model = Regression()\n",
    "model.to(device)\n",
    "\n",
    "criterion = nn.MSELoss()\n",
    "optimizer = torch.optim.Adam(model.parameters())\n",
    "\n",
    "print(model, \"on\", device, \"with\", sum(p.numel() for p in model.parameters() if p.requires_grad), \"parameters\")"
   ]
  },
  {
   "cell_type": "code",
   "execution_count": 8,
   "id": "45d67031",
   "metadata": {},
   "outputs": [],
   "source": [
    "class ImageDataset(Dataset):\n",
    "    def __init__(self, im_dir):\n",
    "        df = pd.read_csv(join(im_dir, \"label.csv\"), sep=\";\")\n",
    "        self.images = df[\"FileName\"].apply(lambda im: join(im_dir, im))\n",
    "        self.labels = df[\"Angle\"]\n",
    "        \n",
    "    def __len__(self) -> int:\n",
    "        return len(self.labels)\n",
    "    \n",
    "    def __getitem__(self, index) -> (torch.Tensor, float):\n",
    "        image = read_image(self.images[index], ImageReadMode.GRAY) / 255\n",
    "        label = self.labels[index]\n",
    "        return image, torch.Tensor([label])\n",
    "\n",
    "    \n",
    "batch_size = 32\n",
    "\n",
    "train_dataloader = DataLoader(ImageDataset(\"../data/train/\"), batch_size=batch_size, shuffle=True)\n",
    "test_dataloader  = DataLoader(ImageDataset(\"../data/test/\"), batch_size=batch_size, shuffle=True)"
   ]
  },
  {
   "cell_type": "code",
   "execution_count": 9,
   "id": "e61e5673",
   "metadata": {},
   "outputs": [],
   "source": [
    "def run_epoch(training, verbose=True):\n",
    "    dataloader = None\n",
    "    if training:\n",
    "        dataloader = train_dataloader\n",
    "        model.train()\n",
    "    else:\n",
    "        dataloader = test_dataloader\n",
    "        model.eval()\n",
    "    \n",
    "    run_loss, run_error = 0, 0\n",
    "    for x_batch, y_batch in dataloader:\n",
    "        optimizer.zero_grad()\n",
    "        y_pred = model(x_batch.to(device)).to(\"cpu\")\n",
    "        loss = criterion(y_pred, y_batch)\n",
    "        if training:\n",
    "            loss.backward()\n",
    "            optimizer.step()\n",
    "        \n",
    "        run_loss += loss.item()\n",
    "        run_error += (y_pred - y_batch).abs().sum().item()\n",
    "        \n",
    "    if verbose:\n",
    "        print(\"Training Loss: {:10.3f} | MAE: {:7.3f}\".format(run_loss / len(dataloader), run_error / len(dataloader.dataset)))\n",
    "    return run_error / len(dataloader.dataset)"
   ]
  },
  {
   "cell_type": "code",
   "execution_count": 10,
   "id": "b409efa6",
   "metadata": {
    "scrolled": true
   },
   "outputs": [
    {
     "name": "stdout",
     "output_type": "stream",
     "text": [
      "Epoch    0 | Training Loss:  10633.257 | MAE:  86.261\n",
      "Epoch    1 | Training Loss:   5116.094 | MAE:  58.574\n",
      "Epoch    2 | Training Loss:   4264.658 | MAE:  53.448\n",
      "Epoch    3 | Training Loss:   4151.994 | MAE:  52.283\n",
      "Epoch    4 | Training Loss:   3792.524 | MAE:  50.218\n",
      "Epoch    5 | Training Loss:   4103.812 | MAE:  52.267\n",
      "Epoch    6 | Training Loss:   3461.709 | MAE:  47.635\n",
      "Epoch    7 | Training Loss:   3561.758 | MAE:  48.562\n",
      "Epoch    8 | Training Loss:   3438.703 | MAE:  47.471\n",
      "Epoch    9 | Training Loss:   3544.240 | MAE:  48.316\n",
      "Epoch   10 | Training Loss:   3330.946 | MAE:  46.452\n",
      "Epoch   11 | Training Loss:   3251.648 | MAE:  46.469\n",
      "Epoch   12 | Training Loss:   3468.898 | MAE:  47.843\n",
      "Epoch   13 | Training Loss:   3592.100 | MAE:  48.594\n",
      "Epoch   14 | Training Loss:   3253.206 | MAE:  45.299\n",
      "Test | Training Loss:    956.167 | MAE:  28.900\n"
     ]
    },
    {
     "data": {
      "text/plain": [
       "28.900204477586165"
      ]
     },
     "execution_count": 10,
     "metadata": {},
     "output_type": "execute_result"
    }
   ],
   "source": [
    "n_epochs = 15\n",
    "for n in range(n_epochs):\n",
    "    print(\"Epoch {:4d}\".format(n), end=\" | \")\n",
    "    run_epoch(training=True)\n",
    "print(\"Test\", end = \" | \")\n",
    "run_epoch(training=False)"
   ]
  },
  {
   "cell_type": "code",
   "execution_count": null,
   "id": "b66d534e",
   "metadata": {},
   "outputs": [],
   "source": []
  }
 ],
 "metadata": {
  "kernelspec": {
   "display_name": "Python 3 (ipykernel)",
   "language": "python",
   "name": "python3"
  },
  "language_info": {
   "codemirror_mode": {
    "name": "ipython",
    "version": 3
   },
   "file_extension": ".py",
   "mimetype": "text/x-python",
   "name": "python",
   "nbconvert_exporter": "python",
   "pygments_lexer": "ipython3",
   "version": "3.7.8"
  }
 },
 "nbformat": 4,
 "nbformat_minor": 5
}
