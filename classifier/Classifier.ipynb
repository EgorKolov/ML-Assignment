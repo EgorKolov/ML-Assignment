{
 "cells": [
  {
   "cell_type": "code",
   "execution_count": 1,
   "id": "98ddcfc9",
   "metadata": {},
   "outputs": [],
   "source": [
    "import os\n",
    "import numpy as np\n",
    "import pandas as pd\n",
    "import torch\n",
    "import torch.nn as nn\n",
    "import torch.nn.functional as F\n",
    "from torch.utils.data import Dataset, DataLoader\n",
    "from torchvision.io import read_image, ImageReadMode"
   ]
  },
  {
   "cell_type": "code",
   "execution_count": 2,
   "id": "2b723e36",
   "metadata": {},
   "outputs": [],
   "source": [
    "class ImageDataset(Dataset):\n",
    "    def __init__(self, im_dir):\n",
    "        df = pd.read_csv(os.path.join(im_dir, \"label.csv\"), sep=\";\")\n",
    "        self.images = df[\"FileName\"].apply(lambda im: os.path.join(im_dir, im))\n",
    "        self.labels = df[\"Side\"].map({\"Left\": 0.0, \"Right\": 1.0})\n",
    "        \n",
    "    def __len__(self) -> int:\n",
    "        return len(self.labels)\n",
    "    \n",
    "    def __getitem__(self, index) -> (torch.Tensor, float):\n",
    "        image = read_image(self.images[index], ImageReadMode.GRAY) / 255\n",
    "        label = self.labels[index]\n",
    "        return image, torch.Tensor([label])\n",
    "\n",
    "    \n",
    "batch_size, n_epochs = 32, 10\n",
    "\n",
    "train_dataloader = DataLoader(ImageDataset(\"../data/train/\"), batch_size=batch_size, shuffle=True)\n",
    "test_dataloader  = DataLoader(ImageDataset(\"../data/test/\"), batch_size=batch_size, shuffle=True)"
   ]
  },
  {
   "cell_type": "code",
   "execution_count": 3,
   "id": "a08b0dbf",
   "metadata": {},
   "outputs": [
    {
     "name": "stdout",
     "output_type": "stream",
     "text": [
      "Classifier(\n",
      "  (c1): Conv2d(1, 4, kernel_size=(3, 3), stride=(1, 1))\n",
      "  (p1): MaxPool2d(kernel_size=2, stride=2, padding=0, dilation=1, ceil_mode=False)\n",
      "  (c2): Conv2d(4, 8, kernel_size=(3, 3), stride=(1, 1))\n",
      "  (p2): MaxPool2d(kernel_size=2, stride=2, padding=0, dilation=1, ceil_mode=False)\n",
      "  (d1): Dropout2d(p=0.35, inplace=False)\n",
      "  (c3): Conv2d(8, 16, kernel_size=(3, 3), stride=(1, 1))\n",
      "  (p3): MaxPool2d(kernel_size=2, stride=2, padding=0, dilation=1, ceil_mode=False)\n",
      "  (d2): Dropout2d(p=0.35, inplace=False)\n",
      "  (f1): Flatten(start_dim=1, end_dim=-1)\n",
      "  (l1): Linear(in_features=36000, out_features=64, bias=True)\n",
      "  (d3): Dropout(p=0.5, inplace=False)\n",
      "  (l2): Linear(in_features=64, out_features=1, bias=True)\n",
      ") on cuda:0\n"
     ]
    }
   ],
   "source": [
    "class Classifier(nn.Module):\n",
    "    def __init__(self):\n",
    "        super(Classifier, self).__init__()\n",
    "        self.c1 = nn.Conv2d(1, 4, kernel_size=3)\n",
    "        self.p1 = nn.MaxPool2d(2)\n",
    "        \n",
    "        self.c2 = nn.Conv2d(4, 8, kernel_size=3)\n",
    "        self.p2 = nn.MaxPool2d(2)\n",
    "        self.d1 = nn.Dropout2d(0.35)\n",
    "        \n",
    "        self.c3 = nn.Conv2d(8, 16, kernel_size=3)\n",
    "        self.p3 = nn.MaxPool2d(2)\n",
    "        self.d2 = nn.Dropout2d(0.35)\n",
    "        \n",
    "        self.f1 = nn.Flatten()\n",
    "        self.l1 = nn.Linear(45 * 50 * 16, 64)\n",
    "        self.d3 = nn.Dropout()\n",
    "        \n",
    "        self.l2 = nn.Linear(64, 1)\n",
    "        \n",
    "    def forward(self, x):\n",
    "        x = self.p1(F.relu(self.c1(x)))\n",
    "        x = self.d1(self.p2(F.relu(self.c2(x))))\n",
    "        x = self.d2(self.p3(F.relu(self.c3(x))))\n",
    "        x = self.d3(F.relu(self.l1(self.f1(x))))\n",
    "        x = torch.sigmoid(self.l2(x))\n",
    "        return x\n",
    "\n",
    "    \n",
    "device = torch.device(\"cuda:0\" if torch.cuda.is_available() else \"cpu\")\n",
    "\n",
    "model = Classifier()\n",
    "model.to(device)\n",
    "\n",
    "criterion = nn.BCELoss()\n",
    "optimizer = torch.optim.Adam(model.parameters())\n",
    "\n",
    "print(model, \"on\", device)"
   ]
  },
  {
   "cell_type": "code",
   "execution_count": 4,
   "id": "e8f9c050",
   "metadata": {},
   "outputs": [],
   "source": [
    "def run_epoch(training, verbose=True):\n",
    "    dataloader = None\n",
    "    if training:\n",
    "        dataloader = train_dataloader\n",
    "        model.train()\n",
    "    else:\n",
    "        dataloader = test_dataloader\n",
    "        model.eval()\n",
    "    \n",
    "    run_loss, correct = 0, 0\n",
    "    for x_batch, y_batch in dataloader:\n",
    "        optimizer.zero_grad()\n",
    "        y_pred = model(x_batch.to(device)).to(\"cpu\")\n",
    "        loss = criterion(y_pred, y_batch)\n",
    "        if training:\n",
    "            loss.backward()\n",
    "            optimizer.step()\n",
    "        \n",
    "        run_loss += loss.item()\n",
    "        correct += ((y_pred >= 0.5) == y_batch).sum()\n",
    "    if verbose:\n",
    "        print(\"Training Loss: {:8.5f} | Accuracy: {:6.2%}\".format(run_loss / len(dataloader), correct / len(dataloader.dataset)))\n"
   ]
  },
  {
   "cell_type": "code",
   "execution_count": null,
   "id": "615823c6",
   "metadata": {},
   "outputs": [
    {
     "name": "stdout",
     "output_type": "stream",
     "text": [
      "Epoch    0 | Training Loss:   0.65829 | Accuracy: 68.63%\n",
      "Validation | Training Loss:   0.54688 | Accuracy: 76.31%\n",
      "Epoch    1 | Training Loss:   0.49293 | Accuracy: 75.44%\n",
      "Validation | Training Loss:   0.21857 | Accuracy: 96.46%\n",
      "Epoch    2 | Training Loss:   0.25154 | Accuracy: 89.09%\n",
      "Validation | Training Loss:   0.05605 | Accuracy: 98.61%\n",
      "Epoch    3 | Training Loss:   0.13836 | Accuracy: 94.25%\n",
      "Validation | Training Loss:   0.04655 | Accuracy: 98.29%\n",
      "Epoch    4 | Training Loss:   0.12718 | Accuracy: 95.20%\n",
      "Validation | Training Loss:   0.04069 | Accuracy: 98.61%\n",
      "Epoch    5 | Training Loss:   0.09878 | Accuracy: 96.70%\n",
      "Validation | Training Loss:   0.03998 | Accuracy: 98.39%\n",
      "Epoch    6 | Training Loss:   0.07874 | Accuracy: 97.60%\n",
      "Validation | Training Loss:   0.04154 | Accuracy: 98.61%\n",
      "Epoch    7 | Training Loss:   0.13438 | Accuracy: 97.00%\n",
      "Validation | Training Loss:   0.05142 | Accuracy: 98.29%\n",
      "Epoch    8 | Training Loss:   0.07373 | Accuracy: 97.50%\n",
      "Validation | Training Loss:   0.05881 | Accuracy: 98.61%\n",
      "Epoch    9 | "
     ]
    }
   ],
   "source": [
    "for n in range(n_epochs):\n",
    "    print(\"Epoch {:4d}\".format(n), end=\" | \")\n",
    "    run_epoch(training=True)\n",
    "    print(\"Validation\", end = \" | \")\n",
    "    run_epoch(training=False)"
   ]
  },
  {
   "cell_type": "code",
   "execution_count": null,
   "id": "bf508f01",
   "metadata": {},
   "outputs": [],
   "source": []
  }
 ],
 "metadata": {
  "kernelspec": {
   "display_name": "Python 3 (ipykernel)",
   "language": "python",
   "name": "python3"
  },
  "language_info": {
   "codemirror_mode": {
    "name": "ipython",
    "version": 3
   },
   "file_extension": ".py",
   "mimetype": "text/x-python",
   "name": "python",
   "nbconvert_exporter": "python",
   "pygments_lexer": "ipython3",
   "version": "3.7.8"
  }
 },
 "nbformat": 4,
 "nbformat_minor": 5
}
